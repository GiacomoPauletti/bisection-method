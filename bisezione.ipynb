{
 "cells": [
  {
   "cell_type": "markdown",
   "metadata": {},
   "source": [
    "# METODO DI BISEZIONE\n",
    "Il metodo di bisezione è un metodo per calcolare il valore approssimato di uno zero di una funzione (ovvero dell'intersezione della funzione con l'asse x, nonchè l'equazione f(x) = 0) in un dato intervallo I. Questo metodo sfrutta il teorema dell'esistenza degli zeri. Ciò tuttavia è anche uno svantaggio in quanto obbliga ad avere gli estremi della funzione discordi tra loro. In caso contrario l'intersezione può comunque esserci, ma questo metodo non riesce a trovarne il valore."
   ]
  },
  {
   "cell_type": "markdown",
   "metadata": {},
   "source": [
    "### LIBRERIE IMPORTATE"
   ]
  },
  {
   "cell_type": "code",
   "execution_count": 1,
   "metadata": {},
   "outputs": [],
   "source": [
    "from math import ceil, floor, e, log\n",
    "from matplotlib import pyplot as plt\n",
    "import numpy as np"
   ]
  },
  {
   "cell_type": "markdown",
   "metadata": {},
   "source": [
    "### LA FUNZIONE BISEZIONE"
   ]
  },
  {
   "cell_type": "code",
   "execution_count": 2,
   "metadata": {
    "scrolled": true
   },
   "outputs": [],
   "source": [
    "def bisezione(f, intervallo, precisione=0.01, **kwargs):\n",
    "    \"\"\"\n",
    "    funzione di bisezione che serve a trovare il valore approssimato dello zero di una funzione in un dato \n",
    "    intervallo.\n",
    "\n",
    "    PARAMETRI:\n",
    "        f: funzione che rappresenta una funzione matematica, quindi che abbina ad un input x un output y\n",
    "        intervallo: l'intervallo in cui cercare l'intersezione. Perchè il metodo funzioni gli estremi devono esser\n",
    "                    discordi\n",
    "        precisione: fino a che cifra (decimale o no) deve approssimare     \n",
    "    \"\"\"\n",
    "    precisione = precisione*0.1\n",
    "    #estremi dell'intervallo\n",
    "    a = float(intervallo[0])\n",
    "    b = float(intervallo[1])\n",
    "\n",
    "    #----------------------------------------------------------------------------------\n",
    "    #1)controllando la precisione\n",
    "    a_digits = [*str(a)]  #--> [\"-\", \"0\",\".\",\"9\",\"9\"]\n",
    "    b_digits = [*str(b)]\n",
    "\n",
    "    if a_digits[0] == '-':\n",
    "        a_digits.remove('-')\n",
    "    if b_digits[0] == '-':\n",
    "        b_digits.remove('-')\n",
    "\n",
    "\n",
    "\n",
    "    #controllo cifra per cifra\n",
    "    #variabili usate per calcolare la precisione attuale (ovvero fino a che cifra i 2 estremi sono uguali)\n",
    "    #precisione = ints/10^exp\n",
    "    exp = 0\n",
    "    ints = 10**(a_digits.index('.')-1)\t\t#questa variabile è 10 elevato per il numero di cifre prima della \n",
    "                                            #virgola. Serve dopo per calcolare la precisione\n",
    "\n",
    "    #i seguenti 2 valori sono l'index a cui il punto . è posizionato e che equivale al numero di cifre prima della\n",
    "    #virgola\n",
    "    index_a = a_digits.index('.')\n",
    "    index_b = b_digits.index('.') \n",
    "\n",
    "    #se i due numeri non hanno lo stesso numero di cifre allora non si calcolerà la precisione\n",
    "    if index_a - index_b!= 0:\n",
    "        if index_a > index_b:\n",
    "            ints = 10**(index_b-1)\n",
    "        else:\n",
    "            ints = 10**(index_a-1)\n",
    "        \n",
    "    else:\n",
    "        t = len(a_digits) if len(a_digits) <= len(b_digits) else len(b_digits)\n",
    "        for i in range(t):\n",
    "            if a_digits[i] == '.':\n",
    "                continue\n",
    "\n",
    "                \n",
    "            elif a_digits[i] == b_digits[i]:\n",
    "                exp += 1\n",
    "                continue\n",
    "            else:\n",
    "                break\n",
    "\n",
    "        #calcolo precisione e nel caso sia corrispondente a quella data, ritorna il risultato\n",
    "        prec = ints / (10**exp)\n",
    "        if (prec <= precisione):\n",
    "            a = ceil(a * 1/precisione) * precisione\n",
    "            b = floor(a * 1/precisione) * precisione\n",
    "            return [a,b]\n",
    "    #------------------------------------------------------------------------------------\n",
    "\n",
    "    #2)calcolo dell'insieme giusto\n",
    "    punto_medio = (a + b)/2\n",
    "    #print(punto_medio)\n",
    "\n",
    "    #se sono discordi, ovvero c'è un intersezione in quell'intervallo\n",
    "    if f(a, **kwargs) * f(punto_medio, **kwargs) < 0.0:\n",
    "\n",
    "        return bisezione(f=f, precisione=precisione, intervallo=[a, punto_medio], **kwargs)\n",
    "\n",
    "    elif f(a, **kwargs) * f(punto_medio, **kwargs) == 0.0:\n",
    "        if f(a, **kwargs) == 0.0:\n",
    "            return a\n",
    "        else:\n",
    "            return punto_medio\n",
    "\n",
    "    #altrimenti controllo con l'altro caso\n",
    "    elif f(punto_medio, **kwargs) * f(b, **kwargs) < 0.0:\n",
    "        return bisezione(f=f, precisione=precisione, intervallo=[punto_medio, b], **kwargs)\n",
    "\n",
    "    #se fa 0 allora vuol dire che funzione(b) fa 0 (non l'altro se no sarebbe andato nel 2 caso)\n",
    "    elif f(punto_medio, **kwargs) * f(b, **kwargs) == 0.0:\n",
    "        return b\n",
    "\n",
    "    #se nessuno dei due sottointervalli ha le condizioni necessarie per il teorema degli zeri e nemmeno gli estremi\n",
    "    #e il punto medio sono le soluzioni\n",
    "    else:\n",
    "        print(\"Nell'intervallo passato non ci sono intersezioni oppure l'algoritmo non è in grado di trovarne alcuna\")\n",
    "        a = ceil(a * 1/precisione) * precisione\n",
    "        b = floor(a * 1/precisione) * precisione\n",
    "        return None\n"
   ]
  },
  {
   "cell_type": "markdown",
   "metadata": {},
   "source": [
    "### FUNZIONI MATEMATICHE"
   ]
  },
  {
   "cell_type": "code",
   "execution_count": 3,
   "metadata": {},
   "outputs": [],
   "source": [
    "\"\"\"def retta(x, m=1, q=0):\n",
    "    return m*x + q\n",
    "\n",
    "def x_quadro(x, a=1, b=0, c=0):\n",
    "    return a*x**2 + b*x + c\n",
    "\n",
    "def iperbole(x, a=0, b=1, c=1, d=0):\n",
    "    if c*x +d == 0:\n",
    "        x += 0.01\n",
    "    \n",
    "    return (a*x + b)/(c*x + d)\n",
    "\n",
    "def potenza(x, exp=1, a=1, q=0):\n",
    "    return a*x**exp + q\n",
    "\n",
    "def esponenziale_traslata(x): \n",
    "    return e**x -2\"\"\"\n",
    "\n",
    "def retta(x):\n",
    "    return x\n",
    "\n",
    "def x3_traslata(x):\n",
    "    if type(x) == int:\n",
    "        return x**3 - 4\n",
    "    elif type(x) == list or type(x) == type(np.array([])):\n",
    "        result = []\n",
    "        for item in x:\n",
    "            result.append(item**3 - 4)\n",
    "        return result\n",
    "\n",
    "def ln_traslato(x):\n",
    "    if type(x) == int:\n",
    "        return log(x+6)\n",
    "    elif type(x) == list or type(x) == type(np.array([])):\n",
    "        result = []\n",
    "        for item in x:\n",
    "            result.append(log(item+6))\n",
    "        return result   \n",
    "\n",
    "def iperbole(x):\n",
    "    return (3*x + 1)/(4*x + 4)"
   ]
  },
  {
   "cell_type": "code",
   "execution_count": 4,
   "metadata": {},
   "outputs": [
    {
     "data": {
      "text/plain": [
       "[-0.336, -0.336]"
      ]
     },
     "execution_count": 4,
     "metadata": {},
     "output_type": "execute_result"
    }
   ],
   "source": [
    "bisezione(f=iperbole, intervallo=[-0.99, 0], precisione=0.001)"
   ]
  },
  {
   "cell_type": "code",
   "execution_count": 32,
   "metadata": {},
   "outputs": [
    {
     "data": {
      "image/png": "[encoded data removed]",
      "text/plain": [
       "<Figure size 432x288 with 1 Axes>"
      ]
     },
     "metadata": {
      "needs_background": "light"
     },
     "output_type": "display_data"
    }
   ],
   "source": [
    "x = np.arange(-5,5,0.1)\n",
    "y = x3_traslata(x)\n",
    "result = zip(x,y)\n",
    "for item in tuple(result):\n",
    "    plt.scatter(item[0], item[1], s=25, c='gray')\n",
    "\n",
    "plt.show()"
   ]
  },
  {
   "cell_type": "code",
   "execution_count": null,
   "metadata": {},
   "outputs": [],
   "source": []
  },
  {
   "cell_type": "code",
   "execution_count": null,
   "metadata": {},
   "outputs": [],
   "source": []
  }
 ],
 "metadata": {
  "kernelspec": {
   "display_name": "Python 3",
   "language": "python",
   "name": "python3"
  },
  "language_info": {
   "codemirror_mode": {
    "name": "ipython",
    "version": 3
   },
   "file_extension": ".py",
   "mimetype": "text/x-python",
   "name": "python",
   "nbconvert_exporter": "python",
   "pygments_lexer": "ipython3",
   "version": "3.8.3"
  }
 },
 "nbformat": 4,
 "nbformat_minor": 4
}
